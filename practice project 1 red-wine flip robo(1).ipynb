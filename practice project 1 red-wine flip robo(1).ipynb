{
 "cells": [
  {
   "cell_type": "markdown",
   "id": "0ab920ce",
   "metadata": {},
   "source": [
    "# Red Wine Quality Prediction"
   ]
  },
  {
   "cell_type": "markdown",
   "id": "2d64f3e1",
   "metadata": {},
   "source": [
    "\n",
    "\n",
    "Problem Statement:\n",
    "The dataset is related to red and white variants of the Portuguese \"Vinho Verde\" wine. Due to privacy and logistic issues, only physicochemical (inputs) and sensory (the output) variables are available (e.g. there is no data about grape types, wine brand, wine selling price, etc.).\n",
    "\n",
    "This dataset can be viewed as classification task. The classes are ordered and not balanced (e.g. there are many more normal wines than excellent or poor ones). Also, we are not sure if all input variables are relevant. So it could be interesting to test feature selection methods.\n"
   ]
  },
  {
   "cell_type": "markdown",
   "id": "01d98905",
   "metadata": {},
   "source": [
    "Attribute Information\n",
    "Input variables (based on physicochemical tests):\n",
    "1 - fixed acidity\n",
    "2 - volatile acidity\n",
    "3 - citric acid\n",
    "4 - residual sugar\n",
    "5 - chlorides\n",
    "6 - free sulfur dioxide\n",
    "7 - total sulfur dioxide\n",
    "8 - density\n",
    "9 - pH\n",
    "10 - sulphates\n",
    "11 - alcohol\n",
    "Output variable (based on sensory data):\n",
    "12 - quality (score between 0 and 10)\n",
    "\n",
    "What might be an interesting thing to do, is to set an arbitrary cutoff for your dependent variable (wine quality) at e.g. 7 or higher getting classified as 'good/1' and the remainder as 'not good/0'.\n",
    "This allows you to practice with hyper parameter tuning on e.g. decision tree algorithms looking at the ROC curve and the AUC value.\n",
    "You need to build a classification model. \n",
    "\n",
    "\n",
    "Downlaod Files: https://github.com/dsrscientist/DSData/blob/master/winequality-red.csv\n"
   ]
  },
  {
   "cell_type": "code",
   "execution_count": null,
   "id": "6e6cffc9",
   "metadata": {},
   "outputs": [],
   "source": [
    "import pandas as pd\n",
    "import numpy as np\n",
    "import matplotlib.pyplot as plt\n",
    "import seaborn as sns\n",
    "%matplotlib inline\n",
    "import warnings\n",
    "warnings.filterwarnings('ignore')\n",
    "\n"
   ]
  },
  {
   "cell_type": "code",
   "execution_count": null,
   "id": "86a3b0b7",
   "metadata": {},
   "outputs": [],
   "source": [
    "import numpy as np"
   ]
  },
  {
   "cell_type": "code",
   "execution_count": null,
   "id": "6e323ada",
   "metadata": {},
   "outputs": [],
   "source": [
    "df=pd.read_csv(\"winequality-red.csv\")"
   ]
  },
  {
   "cell_type": "code",
   "execution_count": null,
   "id": "244a365c",
   "metadata": {},
   "outputs": [],
   "source": [
    "df.head()"
   ]
  },
  {
   "cell_type": "code",
   "execution_count": null,
   "id": "93aabd0a",
   "metadata": {},
   "outputs": [],
   "source": [
    "df.shape"
   ]
  },
  {
   "cell_type": "code",
   "execution_count": null,
   "id": "eb8b992c",
   "metadata": {},
   "outputs": [],
   "source": [
    "df.isnull().sum()"
   ]
  },
  {
   "cell_type": "markdown",
   "id": "471fa036",
   "metadata": {},
   "source": [
    "information about features:\n",
    "\n",
    "    Alcohol: the amount of alcohol in wine\n",
    "    Volatile acidity: are high acetic acid in wine which leads to an unpleasant vinegar taste\n",
    "    Sulphates: a wine additive that contributes to SO2 levels and acts as an antimicrobial and antioxidant\n",
    "    Citric Acid: acts as a preservative to increase acidity (small quantities add freshness and flavor to wines)\n",
    "    Total Sulfur Dioxide: is the amount of free + bound forms of SO2\n",
    "    Density: sweeter wines have a higher density\n",
    "    Chlorides: the amount of salt in the wine\n",
    "    Fixed acidity: are non-volatile acids that do not evaporate readily\n",
    "    pH: the level of acidity\n",
    "    Free Sulfur Dioxide: it prevents microbial growth and the oxidation of wine\n",
    "    Residual sugar: is the amount of sugar remaining after fermentation stops. The key is to have a perfect balance between —     sweetness and sourness (wines > 45g/ltrs are sweet)\n",
    "    For the purpose of this project, I converted the output to a binary output where each wine is either “good quality” (a         score of 7 or higher) or not (a score below 7).\n",
    "\n"
   ]
  },
  {
   "cell_type": "markdown",
   "id": "906fba22",
   "metadata": {},
   "source": [
    "Objectives :\n",
    "\n",
    "ML modelling with different classification algorithim to build model with highest accuracy which in turns lead to predicting quality of wine in term of good or not good.\n",
    "With help of EDA to determine which features are the most indicative of a good quality wine\n"
   ]
  },
  {
   "cell_type": "code",
   "execution_count": null,
   "id": "5c7cc12f",
   "metadata": {},
   "outputs": [],
   "source": []
  },
  {
   "cell_type": "code",
   "execution_count": null,
   "id": "678b62b1",
   "metadata": {},
   "outputs": [],
   "source": [
    "df.info()"
   ]
  },
  {
   "cell_type": "code",
   "execution_count": null,
   "id": "1e974715",
   "metadata": {},
   "outputs": [],
   "source": [
    "df.describe()"
   ]
  },
  {
   "cell_type": "code",
   "execution_count": null,
   "id": "ed317996",
   "metadata": {},
   "outputs": [],
   "source": [
    "#observation\n",
    "1.the count of all the columns are same which means there is no missing values in any column\n",
    "2.the mean value is greater the the median(50%) in fixed acidity,citric acid,free sulfur dioxide,\n",
    "total sulfur dioxide and residual sugar coulmn which mean the data is skewed to the right in these columnms\n",
    "3.by summarizing we can say there is huge difference between 75% and max hence the outliers are present in data\n",
    "4.we can also notice the standard deviation min 25% percentile values from descibe method\n",
    "5.In each feature we can see that mean is greater than median.\n",
    "6.Minimum value of citric acid is zero. Need check if it valid data or some kind of data error.\n",
    "7.There is lot difference between 75th percentile and max in residual sugar, free sulfer dioxide, total sulfer dioxide.\n",
    "8.If we consider spread of data based on mean/std & right/left side skewed data based on 3rd quartile and max, \n",
    "we can definitely say that outliers are present in data.\n",
    "\n"
   ]
  },
  {
   "cell_type": "markdown",
   "id": "14030f32",
   "metadata": {},
   "source": [
    "\n",
    "Mean feature values as per different quality grade"
   ]
  },
  {
   "cell_type": "code",
   "execution_count": null,
   "id": "03e95d39",
   "metadata": {},
   "outputs": [],
   "source": [
    "means = pd.pivot_table(data=df, index='quality',aggfunc={'fixed acidity':np.mean, 'volatile acidity':np.mean, 'citric acid':np.mean, \n",
    "                                                     'residual sugar':np.mean,'chlorides':np.mean,\n",
    "                                                     'free sulfur dioxide':np.mean,'density':np.mean,'pH':np.mean,'sulphates':np.mean,'alcohol':np.mean})\n",
    "means"
   ]
  },
  {
   "cell_type": "code",
   "execution_count": null,
   "id": "052543e2",
   "metadata": {},
   "outputs": [],
   "source": [
    "\n",
    "Comment-\n",
    "based on mean value quality\n",
    "\n",
    "    Good quality (grade 7 & 8) of wine posses higher amount of alcohol, citric acid, fixed acidity, sulphates.\n",
    "    Good quality (grade 7 & 8) of wine posses lower amount of Chlorides, low pH value,volatile acidity.\n",
    "    Good quality (grade 7 & 8) of wine posses moderate amount of free sulfur dioxide in range of 14-16.\n",
    "    Density and residual sugar are not deciding factor in determining quality of wine.\n"
   ]
  },
  {
   "cell_type": "code",
   "execution_count": null,
   "id": "8afc7e4b",
   "metadata": {},
   "outputs": [],
   "source": [
    "\n",
    "Create Classification version of target variable\n",
    "\n",
    "We will create two class for purpose of classification based on quality grade of red wine\n",
    "\n",
    "    class 1- Good quality red wine - if a quality grade of 7 or higher\n",
    "    class 2- Low quality red wine - if a quality grade less than 7\n",
    "\n"
   ]
  },
  {
   "cell_type": "code",
   "execution_count": null,
   "id": "1d799745",
   "metadata": {},
   "outputs": [],
   "source": [
    "df['class'] =[1 if x >= 7 else 0 for x in df['quality']]"
   ]
  },
  {
   "cell_type": "code",
   "execution_count": null,
   "id": "edda606c",
   "metadata": {},
   "outputs": [],
   "source": [
    "\n",
    "\n",
    "df['class'].value_counts()\n",
    "\n"
   ]
  },
  {
   "cell_type": "code",
   "execution_count": null,
   "id": "9ea66036",
   "metadata": {},
   "outputs": [],
   "source": [
    "df1=df.drop(columns='quality')"
   ]
  },
  {
   "cell_type": "code",
   "execution_count": null,
   "id": "70fc7180",
   "metadata": {},
   "outputs": [],
   "source": [
    "means = pd.pivot_table(data=df, index='class',aggfunc={'fixed acidity':np.mean, 'volatile acidity':np.mean, 'citric acid':np.mean, \n",
    "                                                     'residual sugar':np.mean,'chlorides':np.mean,\n",
    "                                                     'free sulfur dioxide':np.mean,'density':np.mean,'pH':np.mean,'sulphates':np.mean,'alcohol':np.mean})\n",
    "means"
   ]
  },
  {
   "cell_type": "code",
   "execution_count": null,
   "id": "575452d6",
   "metadata": {},
   "outputs": [],
   "source": [
    "labels = '1','0',\n",
    "fig, ax = plt.subplots()\n",
    "ax.pie(df['class'].value_counts(),labels = labels,radius =1,autopct = '%1.2f%%', shadow=True,)\n",
    "plt.show()\n",
    "\n"
   ]
  },
  {
   "cell_type": "markdown",
   "id": "87c269a8",
   "metadata": {},
   "source": [
    "Comment -\n",
    "\n",
    "    Majority of wine samples are of quality level 5 and 6.\n",
    "    This dataset we have only 217 wine sample with higher quality grade.\n"
   ]
  },
  {
   "cell_type": "markdown",
   "id": "6c519053",
   "metadata": {},
   "source": [
    "#checking missing values"
   ]
  },
  {
   "cell_type": "code",
   "execution_count": null,
   "id": "467ad40c",
   "metadata": {},
   "outputs": [],
   "source": [
    "missing_values = df.isnull().sum().sort_values(ascending = False)\n",
    "percentage_missing_values =(missing_values/len(df))*100\n",
    "print(pd.concat([missing_values, percentage_missing_values], axis =1, keys =['Missing Values', '% Missing data']))"
   ]
  },
  {
   "cell_type": "code",
   "execution_count": null,
   "id": "2cfb2000",
   "metadata": {},
   "outputs": [],
   "source": [
    "#Distribution of features :\n",
    "\n",
    "plt.figure(figsize=(20,25), facecolor='white')\n",
    "plotnumber =1\n",
    "for column in df:\n",
    "    if plotnumber <=12:\n",
    "        ax = plt.subplot(4,3,plotnumber)\n",
    "        sns.distplot(df[column], color='r')\n",
    "        plt.xlabel(column,fontsize=20)\n",
    "    plotnumber+=1\n",
    "plt.show()\n",
    "\n"
   ]
  },
  {
   "cell_type": "markdown",
   "id": "ac5db111",
   "metadata": {},
   "source": [
    "Comment -\n",
    "\n",
    "There is skewness in data"
   ]
  },
  {
   "cell_type": "code",
   "execution_count": null,
   "id": "8a804667",
   "metadata": {},
   "outputs": [],
   "source": [
    "plt.figure(figsize=(20,25), facecolor='white')\n",
    "plotnumber =1\n",
    "for column in df:\n",
    "    if plotnumber <=12:\n",
    "        ax = plt.subplot(4,3,plotnumber)\n",
    "        plt.bar(df['quality'], df[column], color='b') \n",
    "        plt.xlabel('quality',fontsize=20)\n",
    "        plt.ylabel(column, fontsize =20)\n",
    "    plotnumber+=1\n",
    "plt.tight_layout()\n",
    "plt.show()"
   ]
  },
  {
   "cell_type": "markdown",
   "id": "6b37a6d2",
   "metadata": {},
   "source": [
    "\n",
    "Comment-\n",
    "Based on quality\n",
    "\n",
    "    Good quality (grade 7 & 8) of wine posses higher amount of alcohol, fixed acidity.\n",
    "    Good quality (grade 7 & 8) of wine posses lower amount of low pH value,volatile acidity,chlorides.\n",
    "    Good quality (grade 7 & 8) of wine posses moderate amount of free sulfur dioxide in range of 14-16.\n",
    "    Density and residual sugar are not deciding factor in determining quality of wine.\n",
    "    Low grade quality of wine posses lower amount of total sulfer dioxide.\n",
    "    Higher volatile acid lower the quality of wine.\n"
   ]
  },
  {
   "cell_type": "code",
   "execution_count": null,
   "id": "b1858a53",
   "metadata": {},
   "outputs": [],
   "source": [
    "plt.figure(figsize=(12,16), facecolor='white')\n",
    "plotnumber =1\n",
    "for column in df:\n",
    "    if plotnumber <=12:\n",
    "        ax = plt.subplot(4,3,plotnumber)\n",
    "        sns.barplot(df['class'],df[column]) \n",
    "        plt.xlabel('class',fontsize=20)\n",
    "        plt.ylabel(column, fontsize =20)\n",
    "    plotnumber+=1\n",
    "plt.tight_layout()\n",
    "plt.show()\n",
    "# class 1 - good quality\n",
    "# class 0 - low quality"
   ]
  },
  {
   "cell_type": "markdown",
   "id": "5d55ce1b",
   "metadata": {},
   "source": [
    "\n",
    "Comment -\n",
    "\n",
    "    Quality of wine increase with increase in alcohol, sulpates, residual sugar, citric acid,fixed acidity.\n",
    "    Quality of wine decreses with increase in total sulfur dioxide,chlorides, volatile acidity,free sulfur dioxide.\n",
    "\n"
   ]
  },
  {
   "cell_type": "code",
   "execution_count": null,
   "id": "93b606e1",
   "metadata": {},
   "outputs": [],
   "source": [
    "# checking outliers present in each column\n",
    "plt.figure(figsize=(20,50), facecolor='white')\n",
    "plotnumber =1\n",
    "for column in df:\n",
    "    if plotnumber <=12:\n",
    "        ax = plt.subplot(6,2,plotnumber)\n",
    "        sns.boxplot(df['quality'],df[column]) \n",
    "        plt.xlabel('quality',fontsize=20)\n",
    "        plt.ylabel(column, fontsize =20)\n",
    "    plotnumber+=1\n",
    "plt.tight_layout()\n",
    "plt.show()\n",
    "\n"
   ]
  },
  {
   "cell_type": "code",
   "execution_count": null,
   "id": "a6ad8119",
   "metadata": {},
   "outputs": [],
   "source": [
    "\n",
    "\n",
    "Grp_c=df.groupby('class')\n",
    "C_1=Grp_c.get_group(1)\n",
    "C_2=Grp_c.get_group(0)\n",
    "C_1"
   ]
  },
  {
   "cell_type": "code",
   "execution_count": null,
   "id": "a3fd64d4",
   "metadata": {},
   "outputs": [],
   "source": [
    "plt.figure(figsize=(20,25), facecolor='white')\n",
    "plotnumber =1\n",
    "for column in C_1:\n",
    "    if plotnumber <=12:\n",
    "        ax = plt.subplot(4,3,plotnumber)\n",
    "        sns.kdeplot(C_1[column], color='b')\n",
    "        plt.xlabel(column,fontsize=20)\n",
    "    plotnumber+=1\n",
    "plt.show()\n"
   ]
  },
  {
   "cell_type": "code",
   "execution_count": null,
   "id": "36d0b357",
   "metadata": {},
   "outputs": [],
   "source": [
    "sns.pairplot(data=df1, hue='class')\n",
    "plt.legend()\n",
    "plt.show()"
   ]
  },
  {
   "cell_type": "markdown",
   "id": "d0b98f96",
   "metadata": {},
   "source": [
    "\n",
    "# Feature selection\n",
    "# Outliers Detection basesd on IQR"
   ]
  },
  {
   "cell_type": "code",
   "execution_count": null,
   "id": "551dfc36",
   "metadata": {},
   "outputs": [],
   "source": [
    "df2 =df1.copy()\n",
    "Q1 =df2.quantile(0.25)\n",
    "Q3= df2.quantile(0.75)\n",
    "IQR = Q3-Q1\n",
    "print(IQR)"
   ]
  },
  {
   "cell_type": "code",
   "execution_count": null,
   "id": "e7e941c1",
   "metadata": {},
   "outputs": [],
   "source": [
    "\n",
    "\n",
    "df_new =df2[~((df <(Q1 - 1.5*IQR)) | (df >(Q3 + 1.5*IQR))).any(axis=1)]\n",
    "print(df_new.shape)\n",
    "\n"
   ]
  },
  {
   "cell_type": "code",
   "execution_count": null,
   "id": "b6136607",
   "metadata": {},
   "outputs": [],
   "source": [
    "\n",
    "\n",
    "print(\"\\033[1m\"+'Percentage Data Loss :'+\"\\033[0m\",((1599-1047)/1599)*100,'%')\n",
    "\n"
   ]
  },
  {
   "cell_type": "markdown",
   "id": "3049f778",
   "metadata": {},
   "source": [
    "There is significant data loss with IQR method."
   ]
  },
  {
   "cell_type": "code",
   "execution_count": null,
   "id": "460c442e",
   "metadata": {},
   "outputs": [],
   "source": [
    "\n",
    "# Removing Outliers using Z score Method"
   ]
  },
  {
   "cell_type": "code",
   "execution_count": null,
   "id": "b6962f7f",
   "metadata": {},
   "outputs": [],
   "source": [
    "\n",
    "\n",
    "from scipy.stats import zscore\n",
    "df3=df1.copy()\n",
    "z_score = zscore(df3)\n",
    "z_score_abs = np.abs(z_score)\n",
    "df_new= df3[(z_score_abs < 3).all(axis=1)]\n",
    "df_new.shape\n",
    "\n"
   ]
  },
  {
   "cell_type": "code",
   "execution_count": null,
   "id": "34b0f726",
   "metadata": {},
   "outputs": [],
   "source": [
    "\n",
    "\n",
    "print(\"\\033[1m\"+'Percentage Data Loss :'+\"\\033[0m\",((1599-1458)/1599)*100,'%')\n",
    "\n"
   ]
  },
  {
   "cell_type": "markdown",
   "id": "faecaf0d",
   "metadata": {},
   "source": [
    "\n",
    "Skewness detection and transformation"
   ]
  },
  {
   "cell_type": "code",
   "execution_count": null,
   "id": "008bc36d",
   "metadata": {},
   "outputs": [],
   "source": [
    "df_new.skew()"
   ]
  },
  {
   "cell_type": "markdown",
   "id": "adc5ee04",
   "metadata": {},
   "source": [
    "\n",
    "Data is highly skewed. So it needs to be transformed"
   ]
  },
  {
   "cell_type": "markdown",
   "id": "3ec4c0a2",
   "metadata": {},
   "source": [
    "Transforming positive or right skew data using boxcox transformation"
   ]
  },
  {
   "cell_type": "code",
   "execution_count": null,
   "id": "12a6c2a3",
   "metadata": {},
   "outputs": [],
   "source": [
    "\n",
    "\n",
    "from scipy.stats import boxcox\n",
    "\n"
   ]
  },
  {
   "cell_type": "code",
   "execution_count": null,
   "id": "48319481",
   "metadata": {},
   "outputs": [],
   "source": [
    "df_new['fixed acidity']=boxcox(df_new['fixed acidity'],0)\n",
    "df_new['residual sugar']=boxcox(df_new['residual sugar'],-1)\n",
    "df_new['chlorides']=boxcox(df_new['chlorides'],-0.5)\n",
    "df_new['free sulfur dioxide']=boxcox(df_new['free sulfur dioxide'],0)\n",
    "df_new['total sulfur dioxide']=boxcox(df_new['total sulfur dioxide'],0)\n",
    "df_new['sulphates']=boxcox(df_new['sulphates'],0)\n",
    "df_new['alcohol']=boxcox(df_new['alcohol'],-0.5)"
   ]
  },
  {
   "cell_type": "code",
   "execution_count": null,
   "id": "72929460",
   "metadata": {},
   "outputs": [],
   "source": [
    "\n",
    "\n",
    "df_new.skew()\n",
    "\n"
   ]
  },
  {
   "cell_type": "code",
   "execution_count": null,
   "id": "273f7dc5",
   "metadata": {},
   "outputs": [],
   "source": [
    "df_new.corr()"
   ]
  },
  {
   "cell_type": "code",
   "execution_count": null,
   "id": "bec28345",
   "metadata": {},
   "outputs": [],
   "source": [
    "\n",
    "\n",
    "plt.figure(figsize =(12,10))\n",
    "sns.heatmap(df_new.corr(), annot= True ,cmap='Spectral')\n",
    "# cmap =PiYG cmap='Spectral'\n",
    "plt.tight_layout\n",
    "plt.show()\n",
    "\n"
   ]
  },
  {
   "cell_type": "markdown",
   "id": "974233f6",
   "metadata": {},
   "source": [
    "\n",
    "Visualizing correlation of feature columns with label column."
   ]
  },
  {
   "cell_type": "code",
   "execution_count": null,
   "id": "0da43804",
   "metadata": {},
   "outputs": [],
   "source": [
    "\n",
    "\n",
    "plt.figure(figsize = (12,6))\n",
    "df_new.corr()['class'].drop(['class']).plot(kind='bar',color = 'c')\n",
    "plt.xlabel('Features',fontsize=15)\n",
    "plt.ylabel('Class',fontsize=15)\n",
    "plt.title('Correlation of features with class',fontsize = 18)\n",
    "plt.show()\n",
    "\n"
   ]
  },
  {
   "cell_type": "markdown",
   "id": "5ef4bee8",
   "metadata": {},
   "source": [
    "\n",
    "Checking Multicollinearity between features using variance_inflation_factor"
   ]
  },
  {
   "cell_type": "code",
   "execution_count": null,
   "id": "f19c1f1c",
   "metadata": {},
   "outputs": [],
   "source": [
    "\n",
    "\n",
    "from statsmodels.stats.outliers_influence import variance_inflation_factor\n",
    "\n"
   ]
  },
  {
   "cell_type": "code",
   "execution_count": null,
   "id": "1f530e17",
   "metadata": {},
   "outputs": [],
   "source": [
    "\n",
    "\n",
    "df_new2=df_new.copy()\n",
    "\n"
   ]
  },
  {
   "cell_type": "code",
   "execution_count": null,
   "id": "ce57f2aa",
   "metadata": {},
   "outputs": [],
   "source": [
    "\n",
    "\n",
    "vif=pd.DataFrame()\n",
    "vif['vif'] = [variance_inflation_factor(df_new2.values,i) for i in range(df_new2.shape[1])]\n",
    "vif['Features']= df_new2.columns\n",
    "vif\n",
    "\n"
   ]
  },
  {
   "cell_type": "markdown",
   "id": "780e9f14",
   "metadata": {},
   "source": [
    "pH, density are not contributing to label and also high multicollinearity exists. so we will drop density,pH."
   ]
  },
  {
   "cell_type": "code",
   "execution_count": null,
   "id": "6d130dae",
   "metadata": {},
   "outputs": [],
   "source": [
    "\n",
    "\n",
    "df_new2= df_new2.drop(['density','pH'], axis=1)\n",
    "\n"
   ]
  },
  {
   "cell_type": "code",
   "execution_count": null,
   "id": "1a7efb97",
   "metadata": {},
   "outputs": [],
   "source": [
    "\n",
    "\n",
    "vif=pd.DataFrame()\n",
    "vif['vif'] = [variance_inflation_factor(df_new2.values,i) for i in range(df_new2.shape[1])]\n",
    "vif['Features']= df_new2.columns\n",
    "vif\n",
    "\n"
   ]
  },
  {
   "cell_type": "markdown",
   "id": "3505dfb3",
   "metadata": {},
   "source": [
    "Still there are lot of multicollinearity. So we need to scale data and apply pca dimensionilty reduction technique."
   ]
  },
  {
   "cell_type": "markdown",
   "id": "6caf6eb3",
   "metadata": {},
   "source": [
    "\n",
    "Standard Scaling"
   ]
  },
  {
   "cell_type": "code",
   "execution_count": null,
   "id": "ef49e6e8",
   "metadata": {},
   "outputs": [],
   "source": [
    "X= df_new.drop(columns=['class'])\n",
    "Y= df_new['class']"
   ]
  },
  {
   "cell_type": "code",
   "execution_count": null,
   "id": "a768e468",
   "metadata": {},
   "outputs": [],
   "source": [
    "\n",
    "\n",
    "from sklearn.preprocessing import StandardScaler\n",
    "scaler= StandardScaler()\n",
    "X_scale = scaler.fit_transform(X)\n",
    "\n"
   ]
  },
  {
   "cell_type": "code",
   "execution_count": null,
   "id": "b2a66bea",
   "metadata": {},
   "outputs": [],
   "source": [
    "\n",
    "\n",
    "X_scale\n",
    "\n"
   ]
  },
  {
   "cell_type": "markdown",
   "id": "3fbbc2de",
   "metadata": {},
   "source": [
    "PCA"
   ]
  },
  {
   "cell_type": "code",
   "execution_count": null,
   "id": "a7f648a4",
   "metadata": {},
   "outputs": [],
   "source": [
    "from sklearn.decomposition import PCA\n",
    "pca = PCA()\n",
    "#plot the graph to find the principal components\n",
    "x_pca = pca.fit_transform(X_scale)\n",
    "plt.figure(figsize=(10,10))\n",
    "plt.plot(np.cumsum(pca.explained_variance_ratio_), 'ro-')\n",
    "plt.grid()"
   ]
  },
  {
   "cell_type": "markdown",
   "id": "2a5a9000",
   "metadata": {},
   "source": [
    "Comment -\n",
    "AS per the graph, we can see that 8 principal components attribute for 90% of variation in the data. We shall pick the first 8 components for our prediction"
   ]
  },
  {
   "cell_type": "code",
   "execution_count": null,
   "id": "840a5315",
   "metadata": {},
   "outputs": [],
   "source": [
    "pca_new = PCA(n_components=8)\n",
    "x_new = pca_new.fit_transform(X_scale)\n",
    "print(x_new)"
   ]
  },
  {
   "cell_type": "markdown",
   "id": "e8656ff8",
   "metadata": {},
   "source": [
    "\n",
    "Machine Learning Model Building"
   ]
  },
  {
   "cell_type": "code",
   "execution_count": null,
   "id": "8296f2ab",
   "metadata": {},
   "outputs": [],
   "source": [
    "from sklearn.model_selection import train_test_split\n",
    "from sklearn.linear_model import LogisticRegression\n",
    "from sklearn.naive_bayes import GaussianNB\n",
    "from sklearn.svm import SVC\n",
    "from sklearn.tree import DecisionTreeClassifier\n",
    "from sklearn.ensemble import RandomForestClassifier\n",
    "from sklearn.neighbors import KNeighborsClassifier\n",
    "from sklearn.ensemble import AdaBoostClassifier\n",
    "from sklearn.ensemble import GradientBoostingClassifier\n",
    "from sklearn.ensemble import BaggingClassifier\n",
    "from sklearn.metrics import accuracy_score, confusion_matrix,classification_report,f1_score"
   ]
  },
  {
   "cell_type": "code",
   "execution_count": null,
   "id": "d48bc0d5",
   "metadata": {},
   "outputs": [],
   "source": [
    "X_train, X_test, Y_train, Y_test = train_test_split(x_new, Y, random_state=42, test_size=.3)\n",
    "print('Training feature matrix size:',X_train.shape)\n",
    "print('Training target vector size:',Y_train.shape)\n",
    "print('Test feature matrix size:',X_test.shape)\n",
    "print('Test target vector size:',Y_test.shape)"
   ]
  },
  {
   "cell_type": "markdown",
   "id": "63cde63d",
   "metadata": {},
   "source": [
    "\n",
    "Finding best Random state"
   ]
  },
  {
   "cell_type": "code",
   "execution_count": null,
   "id": "2387c052",
   "metadata": {},
   "outputs": [],
   "source": [
    "\n",
    "\n",
    "from sklearn.linear_model import LogisticRegression\n",
    "from sklearn.metrics import accuracy_score, confusion_matrix,classification_report,f1_score\n",
    "maxAccu=0\n",
    "maxRS=0\n",
    "for i in range(1,250):\n",
    "    X_train,X_test,Y_train,Y_test = train_test_split(x_new,Y,test_size = 0.3, random_state=i)\n",
    "    log_reg=LogisticRegression()\n",
    "    log_reg.fit(X_train,Y_train)\n",
    "    y_pred=log_reg.predict(X_test)\n",
    "    acc=accuracy_score(Y_test,y_pred)\n",
    "    if acc>maxAccu:\n",
    "        maxAccu=acc\n",
    "        maxRS=i\n",
    "print('Best accuracy is', maxAccu ,'on Random_state', maxRS)\n",
    "\n"
   ]
  },
  {
   "cell_type": "markdown",
   "id": "aa8e90e7",
   "metadata": {},
   "source": [
    "Logistics Regression"
   ]
  },
  {
   "cell_type": "code",
   "execution_count": null,
   "id": "9f7b6f82",
   "metadata": {},
   "outputs": [],
   "source": [
    "X_train, X_test, Y_train, Y_test = train_test_split(x_new, Y, random_state=133, test_size=.33)\n",
    "log_reg=LogisticRegression()\n",
    "log_reg.fit(X_train,Y_train)\n",
    "y_pred=log_reg.predict(X_test)\n",
    "print('\\033[1m'+'Logistics Regression Evaluation'+'\\033[0m')\n",
    "print('\\n')\n",
    "print('\\033[1m'+'Accuracy Score of Logistics Regression :'+'\\033[0m', accuracy_score(Y_test, y_pred))\n",
    "print('\\n')\n",
    "print('\\033[1m'+'Confusion matrix of Logistics Regression :'+'\\033[0m \\n',confusion_matrix(Y_test, y_pred))\n",
    "print('\\n')\n",
    "print('\\033[1m'+'classification Report of Logistics Regression'+'\\033[0m \\n',classification_report(Y_test, y_pred))"
   ]
  },
  {
   "cell_type": "markdown",
   "id": "dd53c93f",
   "metadata": {},
   "source": [
    "Finding Optimal value of n_neighbors for KNN"
   ]
  },
  {
   "cell_type": "code",
   "execution_count": null,
   "id": "f29b1f85",
   "metadata": {},
   "outputs": [],
   "source": [
    "from sklearn import neighbors\n",
    "from math import sqrt\n",
    "from sklearn.metrics import mean_squared_error\n",
    "rmse_val = [] #to store rmse values for different k\n",
    "for K in range(20):\n",
    "    K = K+1\n",
    "    model = neighbors.KNeighborsClassifier(n_neighbors = K)\n",
    "\n",
    "    model.fit(X_train,Y_train)  #fit the model\n",
    "    y_pred=model.predict(X_test) #make prediction on test set\n",
    "    error = sqrt(mean_squared_error(Y_test,y_pred)) #calculate rmse\n",
    "    rmse_val.append(error) #store rmse values\n",
    "    print('RMSE value for k= ' , K , 'is:', error)"
   ]
  },
  {
   "cell_type": "code",
   "execution_count": null,
   "id": "8886a8b6",
   "metadata": {},
   "outputs": [],
   "source": [
    "\n",
    "\n",
    "#plotting the rmse values against k values\n",
    "curve = pd.DataFrame(rmse_val) #elbow curve \n",
    "curve.plot()\n",
    "\n"
   ]
  },
  {
   "cell_type": "markdown",
   "id": "ae46c4e3",
   "metadata": {},
   "source": [
    "Comment-\n",
    "At k= 12, the RMSE is approximately 0.29868314022934306, and shoots up on further increasing the k value. We can safely say that k=12 will give us the best result in this case"
   ]
  },
  {
   "cell_type": "code",
   "execution_count": null,
   "id": "f9a94b1f",
   "metadata": {},
   "outputs": [],
   "source": [
    "model=[\n",
    "        SVC(),\n",
    "        GaussianNB(),\n",
    "        DecisionTreeClassifier(),\n",
    "        KNeighborsClassifier(n_neighbors = 12),\n",
    "        RandomForestClassifier(),\n",
    "        AdaBoostClassifier(),\n",
    "        GradientBoostingClassifier(),\n",
    "        BaggingClassifier()]\n",
    "\n",
    "for m in model:\n",
    "    m.fit(X_train,Y_train)\n",
    "    y_pred=m.predict(X_test)\n",
    "    print('\\033[1m'+'Classification ML Algorithm Evaluation Matrix',m,'is' +'\\033[0m')\n",
    "    print('\\n')\n",
    "    print('\\033[1m'+'Accuracy Score :'+'\\033[0m\\n', accuracy_score(Y_test, y_pred))\n",
    "    print('\\n')\n",
    "    print('\\033[1m'+'Confusion matrix :'+'\\033[0m \\n',confusion_matrix(Y_test, y_pred))\n",
    "    print('\\n')\n",
    "    print('\\033[1m'+'Classification Report :'+'\\033[0m \\n',classification_report(Y_test, y_pred))\n",
    "    print('\\n')\n",
    "    print('================================================================================================')"
   ]
  },
  {
   "cell_type": "markdown",
   "id": "d6b2856d",
   "metadata": {},
   "source": [
    "\n",
    "We can see that RandomForestClassifier() gives maximum Accuracy so we will continue further investigation with crossvalidation of above model"
   ]
  },
  {
   "cell_type": "markdown",
   "id": "890784f5",
   "metadata": {},
   "source": [
    "CrossValidation :"
   ]
  },
  {
   "cell_type": "code",
   "execution_count": null,
   "id": "6427dcbd",
   "metadata": {},
   "outputs": [],
   "source": [
    "from sklearn.model_selection import cross_val_score\n",
    "model=[\n",
    "        SVC(),\n",
    "        GaussianNB(),\n",
    "        DecisionTreeClassifier(),\n",
    "        KNeighborsClassifier(n_neighbors = 12),\n",
    "        RandomForestClassifier(),\n",
    "        AdaBoostClassifier(),\n",
    "        GradientBoostingClassifier(),\n",
    "        BaggingClassifier()]\n",
    "\n",
    "for m in model:\n",
    "    score = cross_val_score(m, X, Y, cv =5)\n",
    "    print('\\n')\n",
    "    print('\\033[1m'+'Cross Validation Score', m, ':'+'\\033[0m\\n')\n",
    "    print(\"Score :\" ,score)\n",
    "    print(\"Mean Score :\",score.mean())\n",
    "    print(\"Std deviation :\",score.std())\n",
    "    print('\\n')\n",
    "    print('============================================================================================================')\n",
    "\n"
   ]
  },
  {
   "cell_type": "markdown",
   "id": "7fedf2b2",
   "metadata": {},
   "source": [
    "we can see that Random Forest Classifier gives maximum Accuracy. So we will apply Hyperparameter\n",
    "tuning on Random Forest model"
   ]
  },
  {
   "cell_type": "markdown",
   "id": "168a47ca",
   "metadata": {},
   "source": [
    "Hyper Parameter Tuning : GridSearchCV"
   ]
  },
  {
   "cell_type": "code",
   "execution_count": null,
   "id": "e8f4ef6e",
   "metadata": {},
   "outputs": [],
   "source": [
    "from sklearn.model_selection import GridSearchCV"
   ]
  },
  {
   "cell_type": "code",
   "execution_count": null,
   "id": "02ecefd7",
   "metadata": {},
   "outputs": [],
   "source": [
    "parameter = {'n_estimators':[30,50,60],'max_depth': [10,20,40,60,80],\n",
    "             'criterion':['gini','entropy'],'max_features':[\"auto\",\"sqrt\",\"log2\"]}"
   ]
  },
  {
   "cell_type": "code",
   "execution_count": null,
   "id": "e369f974",
   "metadata": {},
   "outputs": [],
   "source": [
    "\n",
    "\n",
    "GCV = GridSearchCV(RandomForestClassifier(),parameter,cv=5,n_jobs = -1)\n",
    "GCV.fit(X_train,Y_train)\n",
    "\n"
   ]
  },
  {
   "cell_type": "code",
   "execution_count": null,
   "id": "4a63c05b",
   "metadata": {},
   "outputs": [],
   "source": [
    "\n",
    "\n",
    "GCV.best_params_\n",
    "\n"
   ]
  },
  {
   "cell_type": "markdown",
   "id": "55a4b210",
   "metadata": {},
   "source": [
    "\n",
    "Final Model"
   ]
  },
  {
   "cell_type": "code",
   "execution_count": null,
   "id": "a5729d15",
   "metadata": {},
   "outputs": [],
   "source": [
    "\n",
    "\n",
    "Final_mod = RandomForestClassifier(criterion='entropy',n_estimators= 60, max_depth=20 ,max_features='auto')\n",
    "Final_mod.fit(X_train,Y_train)\n",
    "y_pred=Final_mod.predict(X_test)\n",
    "print('\\033[1m'+'Accuracy Score :'+'\\033[0m\\n', accuracy_score(Y_test, y_pred))\n",
    "\n"
   ]
  },
  {
   "cell_type": "code",
   "execution_count": null,
   "id": "dcf3688e",
   "metadata": {},
   "outputs": [],
   "source": [
    "\n",
    "\n",
    "from sklearn.metrics import roc_auc_score\n",
    "from sklearn.metrics import roc_curve\n",
    "\n",
    "y_pred_prob = Final_mod.predict_proba(X_test)[:,1]\n",
    "fpr, tpr, thresholds = roc_curve(Y_test,y_pred_prob)\n",
    "plt.plot([0,1],[0,1], 'k--')\n",
    "plt.plot(fpr, tpr, label='Random Forest Classifier')\n",
    "plt.xlabel('False postive rate')\n",
    "plt.ylabel('True postive rate')\n",
    "plt.show()\n",
    "auc_score = roc_auc_score(Y_test, Final_mod.predict(X_test))\n",
    "print('\\033[1m'+'Auc Score :'+'\\033[0m\\n',auc_score)\n",
    "\n"
   ]
  },
  {
   "cell_type": "markdown",
   "id": "8de90b16",
   "metadata": {},
   "source": [
    "\n",
    "Saving model"
   ]
  },
  {
   "cell_type": "code",
   "execution_count": null,
   "id": "e5c005e5",
   "metadata": {},
   "outputs": [],
   "source": [
    "\n",
    "\n",
    "import joblib\n",
    "joblib.dump(Final_mod,'Red_Wine_Quality_Final.pkl')\n",
    "\n"
   ]
  },
  {
   "cell_type": "code",
   "execution_count": null,
   "id": "a579eef5",
   "metadata": {},
   "outputs": [],
   "source": []
  }
 ],
 "metadata": {
  "kernelspec": {
   "display_name": "Python 3 (ipykernel)",
   "language": "python",
   "name": "python3"
  },
  "language_info": {
   "codemirror_mode": {
    "name": "ipython",
    "version": 3
   },
   "file_extension": ".py",
   "mimetype": "text/x-python",
   "name": "python",
   "nbconvert_exporter": "python",
   "pygments_lexer": "ipython3",
   "version": "3.9.13"
  }
 },
 "nbformat": 4,
 "nbformat_minor": 5
}
